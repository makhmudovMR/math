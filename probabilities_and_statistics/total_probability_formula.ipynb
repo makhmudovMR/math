{
 "cells": [
  {
   "cell_type": "markdown",
   "metadata": {},
   "source": [
    "#### makhmudov"
   ]
  },
  {
   "cell_type": "markdown",
   "metadata": {},
   "source": [
    "# Total probability formula (Формула полной вероятности)"
   ]
  },
  {
   "cell_type": "markdown",
   "metadata": {},
   "source": [
    "Несовместные события $H_1,H_2,H_3,H_4$, Предположим что с каждым из этих несовместных событий $H_n$ может совместно произойти некоторое событие $A$. Требуется найти вероятность появление события $P(A)$"
   ]
  },
  {
   "cell_type": "markdown",
   "metadata": {},
   "source": [
    "$$ P(A) = P(A*H_1)+P(A*H_2)+P(A*H_3)*P(A*H_4) = \\sum_{i=1}^n P(A*H_i)$$"
   ]
  },
  {
   "cell_type": "markdown",
   "metadata": {},
   "source": [
    "<hr>"
   ]
  },
  {
   "cell_type": "markdown",
   "metadata": {},
   "source": [
    "$$P(A)=\\sum_{i=1}^n P(H_i)* P(A|H_i)$$"
   ]
  },
  {
   "cell_type": "markdown",
   "metadata": {},
   "source": [
    "<hr>"
   ]
  },
  {
   "cell_type": "markdown",
   "metadata": {},
   "source": [
    "<i>Пример.1</i> Вам надо купить определенную книгу. Всего 3 магазина. Вероятность того, что книга будет куплена в первом магазине - 50%, во втором - 30%, в третьем - 20%. В перовом магазине 40% книг \"пиратского\" издания, во втором 50% \"пиратских\" книг и в третьем - 20%. Какова вероятность, что купленная вами книга окажется \"пиратской\"?"
   ]
  },
  {
   "cell_type": "markdown",
   "metadata": {},
   "source": [
    "$H_i$-события, заключащиеся в том, что мы попали в первый, второй и третий магазины (несовместны и образуют полную группу)"
   ]
  },
  {
   "cell_type": "code",
   "execution_count": 1,
   "metadata": {
    "collapsed": true
   },
   "outputs": [],
   "source": [
    "def P_A(m,n):\n",
    "    return m/n"
   ]
  },
  {
   "cell_type": "code",
   "execution_count": 12,
   "metadata": {},
   "outputs": [
    {
     "name": "stdout",
     "output_type": "stream",
     "text": [
      "{'visit': 0.5, 'pirate': 0.4}\n",
      "{'visit': 0.3, 'pirate': 0.5}\n",
      "{'visit': 0.2, 'pirate': 0.2}\n",
      "0.39\n"
     ]
    }
   ],
   "source": [
    "H = {\n",
    "    \"h1\" : {\"visit\":0.5, \"pirate\":0.4},\n",
    "    \"h2\" : {\"visit\":0.3, \"pirate\":0.5},\n",
    "    \"h3\" : {\"visit\":0.2, \"pirate\":0.2}\n",
    "}\n",
    "\n",
    "A = 0\n",
    "for h in H:\n",
    "    print(H[h])\n",
    "    A = A + (H[h]['visit'] * H[h]['pirate'])\n",
    "print(A)\n",
    "        \n"
   ]
  },
  {
   "cell_type": "code",
   "execution_count": null,
   "metadata": {
    "collapsed": true
   },
   "outputs": [],
   "source": []
  }
 ],
 "metadata": {
  "kernelspec": {
   "display_name": "Python 3",
   "language": "python",
   "name": "python3"
  },
  "language_info": {
   "codemirror_mode": {
    "name": "ipython",
    "version": 3
   },
   "file_extension": ".py",
   "mimetype": "text/x-python",
   "name": "python",
   "nbconvert_exporter": "python",
   "pygments_lexer": "ipython3",
   "version": "3.6.3"
  }
 },
 "nbformat": 4,
 "nbformat_minor": 2
}
