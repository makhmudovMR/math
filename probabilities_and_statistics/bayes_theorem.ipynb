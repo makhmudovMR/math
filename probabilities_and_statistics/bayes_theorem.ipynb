{
 "cells": [
  {
   "cell_type": "markdown",
   "metadata": {},
   "source": [
    "# Bayes theorem(Теорема Байеса/Формула Байса)"
   ]
  },
  {
   "cell_type": "markdown",
   "metadata": {},
   "source": [
    "Теорема(Формула Байеса). Пусть $A$ может наступить при условии появления одного из несовместных событий $B_i$ образующищх полную группу. Допустим, что произведено испытание, в результате которого произошло событие $A$. Тогда вероятность того, что реализовалась гипотеза $B_i$, если известно, что событие $A$ произошло, может быть вычислена по формуле: "
   ]
  },
  {
   "cell_type": "markdown",
   "metadata": {},
   "source": [
    "$$P(B_i | A) = \\frac{P(B_i)*P(A|B_i)}{\\sum_{j=1}^n P(B_j)*P(A | B_j)}$$"
   ]
  },
  {
   "cell_type": "markdown",
   "metadata": {
    "collapsed": true
   },
   "source": [
    "<hr>"
   ]
  },
  {
   "cell_type": "markdown",
   "metadata": {},
   "source": [
    "<i>Пример:</i> Вам надо купить определнную книгу. Всего 3 магазина Вероятность того что книга будет купленна в первом магазине - 50%, во втором - 30%, в третьем - 20%. В первом магазине 40% книг \"пиратского\" издания, во втором 50% \"пиратских\" книг и в третьем - 20%. Вы купили книгу в каком то из трех магазинов и она оаказалось \"пиратской\". Какова вероятность, что книга куплена в 1-ом магазине, в 2-ом, в 3-ем? "
   ]
  },
  {
   "cell_type": "markdown",
   "metadata": {},
   "source": [
    "$B_i$ - события, заключающиеся в том, что мы попали в первый, второй и третий магазины(несовместны и образуют полную группу)"
   ]
  },
  {
   "cell_type": "code",
   "execution_count": 3,
   "metadata": {},
   "outputs": [
    {
     "name": "stdout",
     "output_type": "stream",
     "text": [
      "0.39\n",
      "[0.5128205128205129, 0.3846153846153846, 0.10256410256410257]\n"
     ]
    }
   ],
   "source": [
    "def process():\n",
    "    H = {\n",
    "        \"h1\" : {\"visit\":0.5, \"pirate\":0.4},\n",
    "        \"h2\" : {\"visit\":0.3, \"pirate\":0.5},\n",
    "        \"h3\" : {\"visit\":0.2, \"pirate\":0.2}\n",
    "    }\n",
    "    A = 0\n",
    "    for h in H:\n",
    "        A = A + (H[h]['visit'] * H[h]['pirate'])\n",
    "    print(A)\n",
    "    m = []\n",
    "    for h in H:\n",
    "        m.append((H[h]['visit'] * H[h]['pirate']) / A)\n",
    "    print(m)\n",
    "    \n",
    "process()"
   ]
  },
  {
   "cell_type": "code",
   "execution_count": null,
   "metadata": {
    "collapsed": true
   },
   "outputs": [],
   "source": []
  }
 ],
 "metadata": {
  "kernelspec": {
   "display_name": "Python 3",
   "language": "python",
   "name": "python3"
  },
  "language_info": {
   "codemirror_mode": {
    "name": "ipython",
    "version": 3
   },
   "file_extension": ".py",
   "mimetype": "text/x-python",
   "name": "python",
   "nbconvert_exporter": "python",
   "pygments_lexer": "ipython3",
   "version": "3.6.3"
  }
 },
 "nbformat": 4,
 "nbformat_minor": 2
}
