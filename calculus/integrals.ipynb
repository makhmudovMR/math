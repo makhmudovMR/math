{
 "cells": [
  {
   "cell_type": "code",
   "execution_count": 20,
   "metadata": {
    "collapsed": true
   },
   "outputs": [],
   "source": [
    "def f(x):\n",
    "    return x**2\n",
    "\n",
    "def integrals(startingx, endingx,numberofRectangles):\n",
    "    width = (endingx - startingx) / numberofRectangles\n",
    "    #print(width)\n",
    "    runnignSum = 0\n",
    "    for i in range(numberofRectangles):\n",
    "        height = f(startingx + i*width)\n",
    "        print(height)\n",
    "        area = height * width\n",
    "        runnignSum += area\n",
    "    return runnignSum\n"
   ]
  },
  {
   "cell_type": "code",
   "execution_count": 23,
   "metadata": {},
   "outputs": [
    {
     "name": "stdout",
     "output_type": "stream",
     "text": [
      "0.0\n",
      "0.04000000000000001\n",
      "0.16000000000000003\n",
      "0.3600000000000001\n",
      "0.6400000000000001\n",
      "1.0\n",
      "1.4400000000000004\n",
      "1.9600000000000004\n",
      "2.5600000000000005\n",
      "3.24\n"
     ]
    },
    {
     "data": {
      "text/plain": [
       "2.2800000000000007"
      ]
     },
     "execution_count": 23,
     "metadata": {},
     "output_type": "execute_result"
    }
   ],
   "source": [
    "integrals(0, 2,10)"
   ]
  },
  {
   "cell_type": "code",
   "execution_count": null,
   "metadata": {
    "collapsed": true
   },
   "outputs": [],
   "source": []
  },
  {
   "cell_type": "code",
   "execution_count": null,
   "metadata": {
    "collapsed": true
   },
   "outputs": [],
   "source": []
  }
 ],
 "metadata": {
  "kernelspec": {
   "display_name": "Python 3",
   "language": "python",
   "name": "python3"
  },
  "language_info": {
   "codemirror_mode": {
    "name": "ipython",
    "version": 3
   },
   "file_extension": ".py",
   "mimetype": "text/x-python",
   "name": "python",
   "nbconvert_exporter": "python",
   "pygments_lexer": "ipython3",
   "version": "3.6.3"
  }
 },
 "nbformat": 4,
 "nbformat_minor": 2
}
